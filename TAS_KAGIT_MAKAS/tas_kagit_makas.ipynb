{
 "cells": [
  {
   "cell_type": "code",
   "execution_count": null,
   "metadata": {},
   "outputs": [],
   "source": [
    "import random\n",
    "\n",
    "player_score, computer_score = 0, 0\n",
    "computer_choice = 1\n",
    "\n",
    "def print_result(winner = \"Bilgisayar\"):\n",
    "    global computer_score, player_score\n",
    "    print(f'Bilgisayarın Seçimi: {computer_choice}\\nKazanan: {winner}')\n",
    "\n",
    "    if winner == \"Bilgisayar\":\n",
    "        computer_score += 100\n",
    "    else:\n",
    "        player_score += 100\n",
    "\n",
    "print(\"Taş Kağıt Makas Oyunumuza Hoş Geldiniz!\\n\" + (\"-\" * 39))\n",
    "\n",
    "while True:\n",
    "    print(\"\\n 1 -> Taş\\n 2 -> Kağıt\\n 3 -> Makas\\n Oyundan çıkmak isterseniz bu değerler dışında bir değer giriniz\")\n",
    "    player_choice = int(input(\"Seçiminizi Yapınız: \"))\n",
    "    computer_choice = random.choice([1, 2, 3])\n",
    "    \n",
    "    if player_choice == computer_choice:\n",
    "        print(\"Berabere, yeniden oynayınız\")\n",
    "    elif player_choice == 1:\n",
    "        if computer_choice == 2:\n",
    "            print_result()\n",
    "        else:\n",
    "            print_result(\"Kullanıcı\")\n",
    "    elif player_choice == 2:\n",
    "        if computer_choice == 1:\n",
    "            print_result(\"Kullanıcı\")\n",
    "        else:\n",
    "            print_result()\n",
    "    elif player_choice == 3:\n",
    "        if computer_choice == 1:\n",
    "            print_result()\n",
    "        else:\n",
    "            print_result(\"Kullanıcı\")\n",
    "    else:\n",
    "        break\n",
    "\n",
    "print(f'\\nKullanıcı skoru: {player_score}\\nBilgisayarın skoru: {computer_score}')\n",
    "if player_score < computer_score:\n",
    "    print(f'Kullanıcı {computer_score - player_score} farkla bilgisayara yenilmiştir')\n",
    "elif player_score > computer_score:\n",
    "    print(f'Kullanıcı {player_score - computer_score} farkla bilgisayarı yenmiştir')\n",
    "else:\n",
    "    print(\"Oyun berabere!\")"
   ]
  }
 ],
 "metadata": {
  "interpreter": {
   "hash": "245cb827efbc05026119234155bf44411faccde492fdf9848c8178001c1a89ec"
  },
  "kernelspec": {
   "display_name": "Python 3.9.12 ('base')",
   "language": "python",
   "name": "python3"
  },
  "language_info": {
   "codemirror_mode": {
    "name": "ipython",
    "version": 3
   },
   "file_extension": ".py",
   "mimetype": "text/x-python",
   "name": "python",
   "nbconvert_exporter": "python",
   "pygments_lexer": "ipython3",
   "version": "3.9.12"
  },
  "orig_nbformat": 4
 },
 "nbformat": 4,
 "nbformat_minor": 2
}
