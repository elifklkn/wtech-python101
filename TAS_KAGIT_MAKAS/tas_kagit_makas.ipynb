{
 "cells": [
  {
   "cell_type": "code",
   "execution_count": 1,
   "metadata": {},
   "outputs": [
    {
     "name": "stdout",
     "output_type": "stream",
     "text": [
      "Taş Kağıt Makas Oyunumuza Hoş Geldiniz!\n",
      "---------------------------------------\n",
      "\n",
      " 1 -> Taş\n",
      " 2 -> Kağıt\n",
      " 3 -> Makas\n",
      " Oyundan çıkmak isterseniz bu değerler dışında bir değer giriniz\n",
      "Berabere, yeniden oynayınız\n",
      "\n",
      " 1 -> Taş\n",
      " 2 -> Kağıt\n",
      " 3 -> Makas\n",
      " Oyundan çıkmak isterseniz bu değerler dışında bir değer giriniz\n",
      "Bilgisayarın Seçimi: 2\n",
      "Kazanan: Bilgisayar\n",
      "\n",
      " 1 -> Taş\n",
      " 2 -> Kağıt\n",
      " 3 -> Makas\n",
      " Oyundan çıkmak isterseniz bu değerler dışında bir değer giriniz\n",
      "Bilgisayarın Seçimi: 2\n",
      "Kazanan: Kullanıcı\n",
      "\n",
      " 1 -> Taş\n",
      " 2 -> Kağıt\n",
      " 3 -> Makas\n",
      " Oyundan çıkmak isterseniz bu değerler dışında bir değer giriniz\n"
     ]
    },
    {
     "ename": "ValueError",
     "evalue": "invalid literal for int() with base 10: 'd'",
     "output_type": "error",
     "traceback": [
      "\u001b[1;31m---------------------------------------------------------------------------\u001b[0m",
      "\u001b[1;31mValueError\u001b[0m                                Traceback (most recent call last)",
      "\u001b[1;32mc:\\wtech-python101\\wtech-python101\\TAS_KAGIT_MAKAS\\tas_kagit_makas.ipynb Cell 1'\u001b[0m in \u001b[0;36m<cell line: 18>\u001b[1;34m()\u001b[0m\n\u001b[0;32m     <a href='vscode-notebook-cell:/c%3A/wtech-python101/wtech-python101/TAS_KAGIT_MAKAS/tas_kagit_makas.ipynb#ch0000000?line=16'>17</a>\u001b[0m \u001b[39mwhile\u001b[39;00m \u001b[39mTrue\u001b[39;00m:\n\u001b[0;32m     <a href='vscode-notebook-cell:/c%3A/wtech-python101/wtech-python101/TAS_KAGIT_MAKAS/tas_kagit_makas.ipynb#ch0000000?line=17'>18</a>\u001b[0m     \u001b[39mprint\u001b[39m(\u001b[39m\"\u001b[39m\u001b[39m\\n\u001b[39;00m\u001b[39m 1 -> Taş\u001b[39m\u001b[39m\\n\u001b[39;00m\u001b[39m 2 -> Kağıt\u001b[39m\u001b[39m\\n\u001b[39;00m\u001b[39m 3 -> Makas\u001b[39m\u001b[39m\\n\u001b[39;00m\u001b[39m Oyundan çıkmak isterseniz bu değerler dışında bir değer giriniz\u001b[39m\u001b[39m\"\u001b[39m)\n\u001b[1;32m---> <a href='vscode-notebook-cell:/c%3A/wtech-python101/wtech-python101/TAS_KAGIT_MAKAS/tas_kagit_makas.ipynb#ch0000000?line=18'>19</a>\u001b[0m     player_choice \u001b[39m=\u001b[39m \u001b[39mint\u001b[39;49m(\u001b[39minput\u001b[39;49m(\u001b[39m\"\u001b[39;49m\u001b[39mSeçiminizi Yapınız: \u001b[39;49m\u001b[39m\"\u001b[39;49m))\n\u001b[0;32m     <a href='vscode-notebook-cell:/c%3A/wtech-python101/wtech-python101/TAS_KAGIT_MAKAS/tas_kagit_makas.ipynb#ch0000000?line=19'>20</a>\u001b[0m     computer_choice \u001b[39m=\u001b[39m random\u001b[39m.\u001b[39mchoice([\u001b[39m1\u001b[39m, \u001b[39m2\u001b[39m, \u001b[39m3\u001b[39m])\n\u001b[0;32m     <a href='vscode-notebook-cell:/c%3A/wtech-python101/wtech-python101/TAS_KAGIT_MAKAS/tas_kagit_makas.ipynb#ch0000000?line=21'>22</a>\u001b[0m     \u001b[39mif\u001b[39;00m player_choice \u001b[39m==\u001b[39m computer_choice:\n",
      "\u001b[1;31mValueError\u001b[0m: invalid literal for int() with base 10: 'd'"
     ]
    }
   ],
   "source": [
    "import random\n",
    "\n",
    "player_score, computer_score = 0, 0\n",
    "computer_choice = 1\n",
    "\n",
    "def print_result(winner = \"Bilgisayar\"):\n",
    "    global computer_score, player_score\n",
    "    print(f'Bilgisayarın Seçimi: {computer_choice}\\nKazanan: {winner}')\n",
    "\n",
    "    if winner == \"Bilgisayar\":\n",
    "        computer_score += 100\n",
    "    else:\n",
    "        player_score += 100\n",
    "\n",
    "print(\"Taş Kağıt Makas Oyunumuza Hoş Geldiniz!\\n\" + (\"-\" * 39))\n",
    "\n",
    "while True:\n",
    "    print(\"\\n 1 -> Taş\\n 2 -> Kağıt\\n 3 -> Makas\\n Oyundan çıkmak isterseniz bu değerler dışında bir değer giriniz\")\n",
    "    player_choice = int(input(\"Seçiminizi Yapınız: \"))\n",
    "    computer_choice = random.choice([1, 2, 3])\n",
    "    \n",
    "    if player_choice == computer_choice:\n",
    "        print(\"Berabere, yeniden oynayınız\")\n",
    "    elif player_choice == 1:\n",
    "        if computer_choice == 2:\n",
    "            print_result()\n",
    "        else:\n",
    "            print_result(\"Kullanıcı\")\n",
    "    elif player_choice == 2:\n",
    "        if computer_choice == 1:\n",
    "            print_result(\"Kullanıcı\")\n",
    "        else:\n",
    "            print_result()\n",
    "    elif player_choice == 3:\n",
    "        if computer_choice == 1:\n",
    "            print_result()\n",
    "        else:\n",
    "            print_result(\"Kullanıcı\")\n",
    "    else:\n",
    "        break\n",
    "\n",
    "print(f'\\nKullanıcı skoru: {player_score}\\nBilgisayarın skoru: {computer_score}')\n",
    "if player_score < computer_score:\n",
    "    print(f'Kullanıcı {computer_score - player_score} farkla bilgisayara yenilmiştir')\n",
    "elif player_score > computer_score:\n",
    "    print(f'Kullanıcı {player_score - computer_score} farkla bilgisayarı yenmiştir')\n",
    "else:\n",
    "    print(\"Oyun berabere!\")"
   ]
  }
 ],
 "metadata": {
  "interpreter": {
   "hash": "245cb827efbc05026119234155bf44411faccde492fdf9848c8178001c1a89ec"
  },
  "kernelspec": {
   "display_name": "Python 3.9.12 ('base')",
   "language": "python",
   "name": "python3"
  },
  "language_info": {
   "codemirror_mode": {
    "name": "ipython",
    "version": 3
   },
   "file_extension": ".py",
   "mimetype": "text/x-python",
   "name": "python",
   "nbconvert_exporter": "python",
   "pygments_lexer": "ipython3",
   "version": "3.9.12"
  },
  "orig_nbformat": 4
 },
 "nbformat": 4,
 "nbformat_minor": 2
}
