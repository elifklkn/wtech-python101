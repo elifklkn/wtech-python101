{
 "cells": [
  {
   "cell_type": "code",
   "execution_count": 1,
   "metadata": {},
   "outputs": [
    {
     "name": "stdout",
     "output_type": "stream",
     "text": [
      "tebrikler doğru tahminde bulundun\n"
     ]
    }
   ],
   "source": [
    "import random\n",
    "\n",
    "def computerGuess(num):\n",
    "  start, end = 1,100\n",
    "  back = \"\"\n",
    "  while back != \"d\":\n",
    "    if start <= end: #start ve end değerlerinin eşit ya da start değerinin end den küçük olma vs için\n",
    "      guess = random.randint(start,end)\n",
    "    else:\n",
    "      guess = start\n",
    "    \n",
    "    back = input(f'tahminde nulunduğum değer {guess},aklından tuttuğun değerden büyükse b,küçükse k, doğruysa d şeklinde belirt: '.lower())\n",
    "    if back == 'b':\n",
    "      end = guess - 1 #bu ifade artık gireceğin en büyük değer tahmin ettiğinde bir az olsun çünkü büyük değer girdin\n",
    "    elif back == 'k':\n",
    "      start = guess + 1\n",
    "    elif back != 'd':\n",
    "      print(\"yanlış ifade kullandınız \")\n",
    "  print(\"tebrikler doğru tahminde bulundun\")\n",
    "computerGuess(9)"
   ]
  }
 ],
 "metadata": {
  "interpreter": {
   "hash": "245cb827efbc05026119234155bf44411faccde492fdf9848c8178001c1a89ec"
  },
  "kernelspec": {
   "display_name": "Python 3.9.12 ('base')",
   "language": "python",
   "name": "python3"
  },
  "language_info": {
   "codemirror_mode": {
    "name": "ipython",
    "version": 3
   },
   "file_extension": ".py",
   "mimetype": "text/x-python",
   "name": "python",
   "nbconvert_exporter": "python",
   "pygments_lexer": "ipython3",
   "version": "3.9.12"
  },
  "orig_nbformat": 4
 },
 "nbformat": 4,
 "nbformat_minor": 2
}
