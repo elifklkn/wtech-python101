{
 "cells": [
  {
   "cell_type": "code",
   "execution_count": 1,
   "metadata": {},
   "outputs": [
    {
     "name": "stdout",
     "output_type": "stream",
     "text": [
      "Üzgünüm daha büyük bir sayı tahmininde bulunmalıyız\n",
      "Üzgünüm daha büyük bir sayı tahmininde bulunmalıyız\n",
      "Üzgünüm daha büyük bir sayı tahmininde bulunmalıyız\n",
      "Üzgünüm daha büyük bir sayı tahmininde bulunmalıyız\n",
      "Üzgünüm daha büyük bir sayı tahmininde bulunmalıyız\n",
      "üzgünüm daha küçük sayı tahmininde bulunmalıydın\n",
      "üzgünüm daha küçük sayı tahmininde bulunmalıydın\n",
      "Üzgünüm daha büyük bir sayı tahmininde bulunmalıyız\n",
      "Üzgünüm daha büyük bir sayı tahmininde bulunmalıyız\n",
      "Üzgünüm daha büyük bir sayı tahmininde bulunmalıyız\n",
      "Üzgünüm daha büyük bir sayı tahmininde bulunmalıyız\n",
      "Üzgünüm daha büyük bir sayı tahmininde bulunmalıyız\n",
      "Üzgünüm daha büyük bir sayı tahmininde bulunmalıyız\n",
      "Üzgünüm daha büyük bir sayı tahmininde bulunmalıyız\n",
      "Üzgünüm daha büyük bir sayı tahmininde bulunmalıyız\n",
      "Üzgünüm daha büyük bir sayı tahmininde bulunmalıyız\n",
      "hiç oynamasan daha iyi bence,17.denemede bulabildin\n"
     ]
    }
   ],
   "source": [
    "import random\n",
    "def guess(num):\n",
    "  count = 1\n",
    "  random_number = int(input(\"sayı tahmin oyunu içinbir tahmin: \"))\n",
    "  while num != random_number:\n",
    "    count +=1\n",
    "    if num < random_number:\n",
    "      print(\"üzgünüm daha küçük sayı tahmininde bulunmalıydın\")\n",
    "    else:\n",
    "      print(\"Üzgünüm daha büyük bir sayı tahmininde bulunmalıyız\")\n",
    "    random_number = int(input(\"sayı tahmin oyunu için bir tahmin giriniz: \"))\n",
    "  if count == 1:\n",
    "    print(\"tebrikler,sayı tahmin oyununda çok iyisin,{}.denemede buldun\".format(count))\n",
    "  elif count < 5:\n",
    "    print(\"eh işte iyi sayılırsın,{}.denemede bulabildin\")\n",
    "  else:\n",
    "    print(\"hiç oynamasan daha iyi bence,{}.denemede bulabildin\".format(count))\n",
    "guess(random.randint(1,100))"
   ]
  }
 ],
 "metadata": {
  "interpreter": {
   "hash": "245cb827efbc05026119234155bf44411faccde492fdf9848c8178001c1a89ec"
  },
  "kernelspec": {
   "display_name": "Python 3.9.12 ('base')",
   "language": "python",
   "name": "python3"
  },
  "language_info": {
   "codemirror_mode": {
    "name": "ipython",
    "version": 3
   },
   "file_extension": ".py",
   "mimetype": "text/x-python",
   "name": "python",
   "nbconvert_exporter": "python",
   "pygments_lexer": "ipython3",
   "version": "3.9.12"
  },
  "orig_nbformat": 4
 },
 "nbformat": 4,
 "nbformat_minor": 2
}
