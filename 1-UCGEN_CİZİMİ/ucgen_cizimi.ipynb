{
 "cells": [
  {
   "cell_type": "markdown",
   "metadata": {},
   "source": [
    "DİK ÜÇGEN ÇİZİMLERİ"
   ]
  },
  {
   "cell_type": "code",
   "execution_count": 22,
   "metadata": {},
   "outputs": [
    {
     "name": "stdout",
     "output_type": "stream",
     "text": [
      "*\n",
      "**\n",
      "***\n",
      "****\n",
      "*****\n"
     ]
    }
   ],
   "source": [
    "#ÇÖZÜM-1)\n",
    "\n",
    "for i in range(1,6):\n",
    "    print(\"*\" * i)\n",
    "        \n",
    "\n"
   ]
  },
  {
   "cell_type": "code",
   "execution_count": 23,
   "metadata": {},
   "outputs": [
    {
     "name": "stdout",
     "output_type": "stream",
     "text": [
      "\n",
      "*\n",
      "**\n",
      "***\n",
      "****\n"
     ]
    }
   ],
   "source": [
    "#ÇÖZÜM-2\n",
    "\n",
    "for i in range(1,6):\n",
    "    for j in range(i-1,i):\n",
    "        print(\"*\" * j)"
   ]
  },
  {
   "cell_type": "code",
   "execution_count": null,
   "metadata": {},
   "outputs": [],
   "source": [
    "#ÇÖZÜM-3\n",
    "\n",
    "\n",
    "rows = 5\n",
    "for row in range(1,rows+1):\n",
    "    for i in range(1,row+1):\n",
    "        print(\"*\",end=\"\") #end yıldızları yan yana yazmak\n",
    "    print() #satırları alt alta basmak"
   ]
  },
  {
   "cell_type": "code",
   "execution_count": 24,
   "metadata": {},
   "outputs": [
    {
     "name": "stdout",
     "output_type": "stream",
     "text": [
      "****\n",
      "***\n",
      "**\n",
      "*\n"
     ]
    }
   ],
   "source": [
    "#ŞEKİL-2\n",
    "\n",
    "rows = 5\n",
    "for i in range(rows,1,-1):\n",
    "    for j in range(i,1,-1):\n",
    "        print(\"*\",end=\"\")\n",
    "    print()"
   ]
  },
  {
   "cell_type": "code",
   "execution_count": 37,
   "metadata": {},
   "outputs": [
    {
     "name": "stdout",
     "output_type": "stream",
     "text": [
      "*\n",
      " *\n",
      "  *\n",
      "   *\n",
      "    *\n"
     ]
    }
   ],
   "source": [
    "#ŞEKİL-3\n",
    "rows = 5\n",
    "for i in range(rows,0,-1):#sütun-dikey\n",
    "  for j in range(0,i):#satır-yatay\n",
    "    if j == 0:#sadece j 0 iken boşluk ekle demek için\n",
    "      print(\" \"*(rows - i)+\"*\",end=\"\")\n",
    "    else:\n",
    "        "
   ]
  }
 ],
 "metadata": {
  "interpreter": {
   "hash": "245cb827efbc05026119234155bf44411faccde492fdf9848c8178001c1a89ec"
  },
  "kernelspec": {
   "display_name": "Python 3.9.12 ('base')",
   "language": "python",
   "name": "python3"
  },
  "language_info": {
   "codemirror_mode": {
    "name": "ipython",
    "version": 3
   },
   "file_extension": ".py",
   "mimetype": "text/x-python",
   "name": "python",
   "nbconvert_exporter": "python",
   "pygments_lexer": "ipython3",
   "version": "3.9.12"
  },
  "orig_nbformat": 4
 },
 "nbformat": 4,
 "nbformat_minor": 2
}
